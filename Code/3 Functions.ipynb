{
 "cells": [
  {
   "cell_type": "markdown",
   "metadata": {},
   "source": [
    "if we want to do same thing again and again, to avoid writing again and again same code we use function. Once we make a function then we can use it on multiple places just writing function name. so it is easy to code AND avoid rewriting the same code."
   ]
  },
  {
   "cell_type": "markdown",
   "metadata": {},
   "source": [
    "one more thing when we cal function, it will check all code inside the function and run that code again as long as we keep using it will behave the same. let's do with example:"
   ]
  },
  {
   "cell_type": "code",
   "execution_count": 2,
   "metadata": {},
   "outputs": [
    {
     "name": "stdout",
     "output_type": "stream",
     "text": [
      "chair\n",
      "table\n",
      "window\n"
     ]
    }
   ],
   "source": [
    "def thing():\n",
    "    print('chair')\n",
    "    print('table')\n",
    "thing()\n",
    "print('window')"
   ]
  },
  {
   "cell_type": "code",
   "execution_count": 16,
   "metadata": {},
   "outputs": [
    {
     "name": "stdout",
     "output_type": "stream",
     "text": [
      "chair\n",
      "table\n",
      "bed\n",
      "chair\n",
      "table\n",
      "wall\n"
     ]
    }
   ],
   "source": [
    "thing()\n",
    "print('bed')\n",
    "thing()\n",
    "print('wall')"
   ]
  },
  {
   "cell_type": "code",
   "execution_count": 21,
   "metadata": {},
   "outputs": [
    {
     "name": "stdout",
     "output_type": "stream",
     "text": [
      "y\n"
     ]
    }
   ],
   "source": [
    "big = max('my name is haris naseer satti')\n",
    "print(big)"
   ]
  },
  {
   "cell_type": "code",
   "execution_count": 23,
   "metadata": {},
   "outputs": [
    {
     "name": "stdout",
     "output_type": "stream",
     "text": [
      " \n"
     ]
    }
   ],
   "source": [
    "tiny = min('this is my computer')\n",
    "print(tiny)\n",
    "#minimum is space so ans will in the form of space"
   ]
  },
  {
   "cell_type": "code",
   "execution_count": 25,
   "metadata": {},
   "outputs": [
    {
     "name": "stdout",
     "output_type": "stream",
     "text": [
      "0.45\n"
     ]
    }
   ],
   "source": [
    "#we can convert int to float and float to int by using built-in function float() or int()\n",
    "x = float(45)/100\n",
    "print(x)"
   ]
  },
  {
   "cell_type": "code",
   "execution_count": 26,
   "metadata": {},
   "outputs": [
    {
     "data": {
      "text/plain": [
       "int"
      ]
     },
     "execution_count": 26,
     "metadata": {},
     "output_type": "execute_result"
    }
   ],
   "source": [
    "i = 343\n",
    "type(i)"
   ]
  },
  {
   "cell_type": "code",
   "execution_count": 29,
   "metadata": {},
   "outputs": [
    {
     "name": "stdout",
     "output_type": "stream",
     "text": [
      "343.0\n"
     ]
    }
   ],
   "source": [
    "f = float(i)\n",
    "print(f)"
   ]
  },
  {
   "cell_type": "code",
   "execution_count": 30,
   "metadata": {},
   "outputs": [
    {
     "data": {
      "text/plain": [
       "float"
      ]
     },
     "execution_count": 30,
     "metadata": {},
     "output_type": "execute_result"
    }
   ],
   "source": [
    "type(f)"
   ]
  },
  {
   "cell_type": "code",
   "execution_count": 31,
   "metadata": {},
   "outputs": [
    {
     "name": "stdout",
     "output_type": "stream",
     "text": [
      "-4.0\n"
     ]
    }
   ],
   "source": [
    "x = 3+6 * float(54)/ 9 - 43\n",
    "print(x)"
   ]
  },
  {
   "cell_type": "code",
   "execution_count": 32,
   "metadata": {},
   "outputs": [
    {
     "data": {
      "text/plain": [
       "float"
      ]
     },
     "execution_count": 32,
     "metadata": {},
     "output_type": "execute_result"
    }
   ],
   "source": [
    "type(x)"
   ]
  },
  {
   "cell_type": "markdown",
   "metadata": {},
   "source": [
    "we can also conver string to float or int. as we khnow that we can't anything mul or add or sub with the string like 'haris and jawad + 3' this is fool, it return nothing except error so we have to convert string to int or float. let's go with example: "
   ]
  },
  {
   "cell_type": "markdown",
   "metadata": {},
   "source": [
    "one more thing input is a function but it always gives us string so we hv to convert it as per we need"
   ]
  },
  {
   "cell_type": "code",
   "execution_count": 33,
   "metadata": {},
   "outputs": [
    {
     "data": {
      "text/plain": [
       "str"
      ]
     },
     "execution_count": 33,
     "metadata": {},
     "output_type": "execute_result"
    }
   ],
   "source": [
    "sval = '455'\n",
    "type(sval)"
   ]
  },
  {
   "cell_type": "code",
   "execution_count": 35,
   "metadata": {},
   "outputs": [
    {
     "name": "stdout",
     "output_type": "stream",
     "text": [
      "459\n"
     ]
    }
   ],
   "source": [
    "ival = int(sval)\n",
    "print(ival + 4)"
   ]
  },
  {
   "cell_type": "code",
   "execution_count": 40,
   "metadata": {},
   "outputs": [
    {
     "name": "stdout",
     "output_type": "stream",
     "text": [
      "haris\n",
      "jawad\n",
      "i live in rawalpindi and im studying in federal urdu university\n",
      "65\n"
     ]
    }
   ],
   "source": [
    "x = 68\n",
    "print('haris')\n",
    "\n",
    "def mani():\n",
    "    print('i live in rawalpindi and im studying in federal urdu university')\n",
    "\n",
    "print ('jawad')\n",
    "mani()\n",
    "x = x - 3\n",
    "print (x)"
   ]
  },
  {
   "cell_type": "markdown",
   "metadata": {},
   "source": [
    "arguments is a value we pass into functionas its input when we call the function.\n",
    "we use arguments so we can direct the function to do different kinds of work when we call it at different times"
   ]
  },
  {
   "cell_type": "code",
   "execution_count": 42,
   "metadata": {},
   "outputs": [
    {
     "name": "stdout",
     "output_type": "stream",
     "text": [
      "s\n"
     ]
    }
   ],
   "source": [
    "big = max('im haris')\n",
    "print (big)"
   ]
  },
  {
   "cell_type": "markdown",
   "metadata": {},
   "source": [
    "a parameter is a variable which we use in the function defination. it is a \"handle\" that allows the code in the function to access the arguments for a particular function invocation."
   ]
  },
  {
   "cell_type": "code",
   "execution_count": 47,
   "metadata": {},
   "outputs": [
    {
     "name": "stdout",
     "output_type": "stream",
     "text": [
      "random numbers\n",
      "mani\n",
      "haris satti\n",
      "random numbers\n"
     ]
    }
   ],
   "source": [
    "def words(latters):\n",
    "    if latters == ('hr'):\n",
    "        print('mani')\n",
    "    elif latters == ('hs'):\n",
    "        print('haris satti')\n",
    "    else:\n",
    "        print('random numbers')\n",
    "        \n",
    "words('ks')\n",
    "words('hr')\n",
    "words('hs')\n",
    "words('hhf')\n",
    "\n",
    "    \n",
    "    "
   ]
  },
  {
   "cell_type": "markdown",
   "metadata": {},
   "source": [
    "inside the function any code will not run untill we call the function"
   ]
  },
  {
   "cell_type": "markdown",
   "metadata": {},
   "source": [
    "return statement do two thing 1: it stops the code and jumps to the next line. 2: it keep the residual value"
   ]
  },
  {
   "cell_type": "code",
   "execution_count": 53,
   "metadata": {},
   "outputs": [
    {
     "name": "stdout",
     "output_type": "stream",
     "text": [
      "hay haris\n",
      "hay mani\n"
     ]
    }
   ],
   "source": [
    "def prectice():\n",
    "    return \"hay\"\n",
    "print (prectice(),'haris')\n",
    "print (prectice(), 'mani')"
   ]
  },
  {
   "cell_type": "code",
   "execution_count": 57,
   "metadata": {},
   "outputs": [
    {
     "name": "stdout",
     "output_type": "stream",
     "text": [
      "i am joking haris\n",
      "oh jawad\n",
      "i am joking kashif\n",
      "how are you fadi\n"
     ]
    }
   ],
   "source": [
    "def word(ltr):\n",
    "    if ltr == 'xy':\n",
    "        return \"oh\"\n",
    "    elif ltr == 'ab':\n",
    "        return \"how are you\"\n",
    "    else:\n",
    "        return \"i am joking\"\n",
    "    \n",
    "print(word('mani'), 'haris')\n",
    "print(word('xy'), 'jawad')\n",
    "print(word('sb'), 'kashif')\n",
    "print(word('ab'), 'fadi')\n",
    "    \n",
    "    "
   ]
  },
  {
   "cell_type": "code",
   "execution_count": 70,
   "metadata": {},
   "outputs": [],
   "source": [
    "def addtwo(a, b):\n",
    "    added = a+b\n",
    "    return added"
   ]
  },
  {
   "cell_type": "code",
   "execution_count": 69,
   "metadata": {},
   "outputs": [
    {
     "name": "stdout",
     "output_type": "stream",
     "text": [
      "13\n"
     ]
    }
   ],
   "source": [
    "x = addtwo(4,9)\n",
    "print(x)"
   ]
  },
  {
   "cell_type": "code",
   "execution_count": null,
   "metadata": {},
   "outputs": [],
   "source": []
  }
 ],
 "metadata": {
  "kernelspec": {
   "display_name": "Python 3",
   "language": "python",
   "name": "python3"
  },
  "language_info": {
   "codemirror_mode": {
    "name": "ipython",
    "version": 3
   },
   "file_extension": ".py",
   "mimetype": "text/x-python",
   "name": "python",
   "nbconvert_exporter": "python",
   "pygments_lexer": "ipython3",
   "version": "3.7.6"
  }
 },
 "nbformat": 4,
 "nbformat_minor": 4
}
