{
 "cells": [
  {
   "cell_type": "code",
   "execution_count": 2,
   "metadata": {},
   "outputs": [
    {
     "name": "stdout",
     "output_type": "stream",
     "text": [
      "x is equal to 5\n",
      "x is less then or equal to 5\n",
      "x is greater then or equal to 5\n"
     ]
    }
   ],
   "source": [
    "x = 5\n",
    "if x==5:\n",
    "    print('x is equal to 5')\n",
    "if x<5:\n",
    "    print('x is less then 5')\n",
    "if x>5:\n",
    "    print('x is greater then 5')\n",
    "if x<= 5:\n",
    "    print('x is less then or equal to 5')\n",
    "if x>=5:\n",
    "    print('x is greater then or equal to 5')"
   ]
  },
  {
   "cell_type": "code",
   "execution_count": 1,
   "metadata": {},
   "outputs": [
    {
     "name": "stdout",
     "output_type": "stream",
     "text": [
      "y is 9\n",
      "y is still 9\n",
      "y is increasing\n",
      "0\n",
      "done with i 0\n",
      "1\n",
      "done with i 1\n",
      "2\n",
      "done with i 2\n",
      "3\n",
      "done with i 3\n",
      "4\n",
      "done with i 4\n",
      "5\n",
      "done with i 5\n",
      "6\n",
      "done with i 6\n",
      "all done\n"
     ]
    }
   ],
   "source": [
    "y = 9\n",
    "if y == 9:\n",
    "    print('y is 9')\n",
    "    print('y is still 9')\n",
    "print('y is increasing')\n",
    "for i in range(7):\n",
    "    print(i)\n",
    "    if i>7:\n",
    "        print('i is greater then 7')\n",
    "    print('done with i', i)\n",
    "print('all done')"
   ]
  },
  {
   "cell_type": "code",
   "execution_count": 1,
   "metadata": {},
   "outputs": [
    {
     "name": "stdout",
     "output_type": "stream",
     "text": [
      "true\n",
      "\n"
     ]
    }
   ],
   "source": [
    "x = 8\n",
    "if x> 2:\n",
    "    print('true')\n",
    "else:\n",
    "    print('false')\n",
    "print('')"
   ]
  },
  {
   "cell_type": "code",
   "execution_count": 3,
   "metadata": {},
   "outputs": [
    {
     "name": "stdout",
     "output_type": "stream",
     "text": [
      "small\n",
      "all done\n"
     ]
    }
   ],
   "source": [
    "x = 4\n",
    "if x<6:\n",
    "    print('small')\n",
    "elif x<9:\n",
    "    print('medium')\n",
    "else:\n",
    "    print('greater')\n",
    "print('all done')"
   ]
  },
  {
   "cell_type": "code",
   "execution_count": 2,
   "metadata": {},
   "outputs": [
    {
     "name": "stdout",
     "output_type": "stream",
     "text": [
      "small\n"
     ]
    }
   ],
   "source": [
    "x = 9\n",
    "if x<5:\n",
    "    print ('mini')\n",
    "elif x<9:\n",
    "    print('micro')\n",
    "elif x<15:\n",
    "    print('small')\n",
    "elif x<25:\n",
    "    print('medium')\n",
    "elif x<36:\n",
    "    print('large')\n",
    "else:\n",
    "    print('all done')"
   ]
  },
  {
   "cell_type": "code",
   "execution_count": 8,
   "metadata": {},
   "outputs": [
    {
     "name": "stdout",
     "output_type": "stream",
     "text": [
      "first is -1\n",
      "second is 123\n"
     ]
    }
   ],
   "source": [
    "astr = 'i am haris'\n",
    "try:\n",
    "    istr = int(astr)\n",
    "except:\n",
    "    istr = -1\n",
    "    \n",
    "print('first is', istr)\n",
    "astr = '123'\n",
    "try:\n",
    "    istr = int(astr)\n",
    "except:\n",
    "    istr = -2\n",
    "print('second is', istr)"
   ]
  },
  {
   "cell_type": "code",
   "execution_count": 19,
   "metadata": {},
   "outputs": [
    {
     "name": "stdout",
     "output_type": "stream",
     "text": [
      "please enter anything:n\n",
      "not a number\n"
     ]
    }
   ],
   "source": [
    "x = input('please enter anything:')\n",
    "try:\n",
    "    y = int(x)\n",
    "except:\n",
    "    y = -112\n",
    "    \n",
    "if y>0:\n",
    "    print('nice work')\n",
    "else:\n",
    "    print('not a number')"
   ]
  },
  {
   "cell_type": "code",
   "execution_count": 25,
   "metadata": {},
   "outputs": [
    {
     "name": "stdout",
     "output_type": "stream",
     "text": [
      "498.75\n"
     ]
    }
   ],
   "source": [
    "hrs = 47.50\n",
    "rate = 10.50\n",
    "k = hrs*rate\n",
    "print(k)"
   ]
  },
  {
   "cell_type": "code",
   "execution_count": null,
   "metadata": {},
   "outputs": [],
   "source": []
  }
 ],
 "metadata": {
  "kernelspec": {
   "display_name": "Python 3",
   "language": "python",
   "name": "python3"
  },
  "language_info": {
   "codemirror_mode": {
    "name": "ipython",
    "version": 3
   },
   "file_extension": ".py",
   "mimetype": "text/x-python",
   "name": "python",
   "nbconvert_exporter": "python",
   "pygments_lexer": "ipython3",
   "version": "3.7.6"
  }
 },
 "nbformat": 4,
 "nbformat_minor": 4
}
